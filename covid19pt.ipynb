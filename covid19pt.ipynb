{
 "cells": [
  {
   "cell_type": "code",
   "execution_count": 1,
   "metadata": {},
   "outputs": [
    {
     "name": "stdout",
     "output_type": "stream",
     "text": [
      "The Zen of Python, by Tim Peters\n",
      "\n",
      "Beautiful is better than ugly.\n",
      "Explicit is better than implicit.\n",
      "Simple is better than complex.\n",
      "Complex is better than complicated.\n",
      "Flat is better than nested.\n",
      "Sparse is better than dense.\n",
      "Readability counts.\n",
      "Special cases aren't special enough to break the rules.\n",
      "Although practicality beats purity.\n",
      "Errors should never pass silently.\n",
      "Unless explicitly silenced.\n",
      "In the face of ambiguity, refuse the temptation to guess.\n",
      "There should be one-- and preferably only one --obvious way to do it.\n",
      "Although that way may not be obvious at first unless you're Dutch.\n",
      "Now is better than never.\n",
      "Although never is often better than *right* now.\n",
      "If the implementation is hard to explain, it's a bad idea.\n",
      "If the implementation is easy to explain, it may be a good idea.\n",
      "Namespaces are one honking great idea -- let's do more of those!\n"
     ]
    }
   ],
   "source": [
    "# libraries\n",
    "import itertools\n",
    "import matplotlib.pyplot as plt\n",
    "import numpy as np\n",
    "import os\n",
    "import pandas as pd\n",
    "import seaborn as sns\n",
    "import this"
   ]
  },
  {
   "cell_type": "code",
   "execution_count": 2,
   "metadata": {},
   "outputs": [],
   "source": [
    "# display for notebooks\n",
    "%matplotlib inline"
   ]
  },
  {
   "cell_type": "code",
   "execution_count": 3,
   "metadata": {},
   "outputs": [
    {
     "name": "stdout",
     "output_type": "stream",
     "text": [
      "numpy version: 1.18.1\n",
      "pandas version: 1.0.1\n",
      "Seaborn version: 0.10.0\n"
     ]
    }
   ],
   "source": [
    "# Versions\n",
    "print(\"numpy version:\", np.__version__)\n",
    "print(\"pandas version:\", pd.__version__)\n",
    "print(\"Seaborn version:\", sns.__version__)"
   ]
  },
  {
   "cell_type": "code",
   "execution_count": 4,
   "metadata": {},
   "outputs": [],
   "source": [
    "# loading the dataset\n",
    "url = \"https://raw.githubusercontent.com/dssg-pt/covid19pt-data/master/data.csv\""
   ]
  },
  {
   "cell_type": "code",
   "execution_count": 5,
   "metadata": {},
   "outputs": [],
   "source": [
    "# creating a dataframe\n",
    "covid_pt = pd.read_csv(url, index_col = \"data\", parse_dates = True, dayfirst = True)"
   ]
  },
  {
   "cell_type": "code",
   "execution_count": 6,
   "metadata": {
    "scrolled": true
   },
   "outputs": [
    {
     "data": {
      "text/html": [
       "<div>\n",
       "<style scoped>\n",
       "    .dataframe tbody tr th:only-of-type {\n",
       "        vertical-align: middle;\n",
       "    }\n",
       "\n",
       "    .dataframe tbody tr th {\n",
       "        vertical-align: top;\n",
       "    }\n",
       "\n",
       "    .dataframe thead th {\n",
       "        text-align: right;\n",
       "    }\n",
       "</style>\n",
       "<table border=\"1\" class=\"dataframe\">\n",
       "  <thead>\n",
       "    <tr style=\"text-align: right;\">\n",
       "      <th></th>\n",
       "      <th>data_dados</th>\n",
       "      <th>confirmados</th>\n",
       "      <th>confirmados_arsnorte</th>\n",
       "      <th>confirmados_arscentro</th>\n",
       "      <th>confirmados_arslvt</th>\n",
       "      <th>confirmados_arsalentejo</th>\n",
       "      <th>confirmados_arsalgarve</th>\n",
       "      <th>confirmados_acores</th>\n",
       "      <th>confirmados_madeira</th>\n",
       "      <th>confirmados_estrangeiro</th>\n",
       "      <th>...</th>\n",
       "      <th>confirmados_f</th>\n",
       "      <th>confirmados_m</th>\n",
       "      <th>obitos_arsnorte</th>\n",
       "      <th>obitos_arscentro</th>\n",
       "      <th>obitos_arslvt</th>\n",
       "      <th>obitos_arsalentejo</th>\n",
       "      <th>obitos_arsalgarve</th>\n",
       "      <th>obitos_acores</th>\n",
       "      <th>obitos_madeira</th>\n",
       "      <th>obitos_estrangeiro</th>\n",
       "    </tr>\n",
       "    <tr>\n",
       "      <th>data</th>\n",
       "      <th></th>\n",
       "      <th></th>\n",
       "      <th></th>\n",
       "      <th></th>\n",
       "      <th></th>\n",
       "      <th></th>\n",
       "      <th></th>\n",
       "      <th></th>\n",
       "      <th></th>\n",
       "      <th></th>\n",
       "      <th></th>\n",
       "      <th></th>\n",
       "      <th></th>\n",
       "      <th></th>\n",
       "      <th></th>\n",
       "      <th></th>\n",
       "      <th></th>\n",
       "      <th></th>\n",
       "      <th></th>\n",
       "      <th></th>\n",
       "      <th></th>\n",
       "    </tr>\n",
       "  </thead>\n",
       "  <tbody>\n",
       "    <tr>\n",
       "      <th>2020-03-20</th>\n",
       "      <td>20/03/2020 00:00</td>\n",
       "      <td>1020</td>\n",
       "      <td>506</td>\n",
       "      <td>106</td>\n",
       "      <td>361</td>\n",
       "      <td>2</td>\n",
       "      <td>29</td>\n",
       "      <td>3</td>\n",
       "      <td>1</td>\n",
       "      <td>9.0</td>\n",
       "      <td>...</td>\n",
       "      <td>506.0</td>\n",
       "      <td>514.0</td>\n",
       "      <td>1</td>\n",
       "      <td>2</td>\n",
       "      <td>2</td>\n",
       "      <td>0</td>\n",
       "      <td>1</td>\n",
       "      <td>0</td>\n",
       "      <td>0</td>\n",
       "      <td>0</td>\n",
       "    </tr>\n",
       "    <tr>\n",
       "      <th>2020-03-21</th>\n",
       "      <td>21/03/2020 00:00</td>\n",
       "      <td>1280</td>\n",
       "      <td>644</td>\n",
       "      <td>137</td>\n",
       "      <td>448</td>\n",
       "      <td>3</td>\n",
       "      <td>31</td>\n",
       "      <td>3</td>\n",
       "      <td>5</td>\n",
       "      <td>9.0</td>\n",
       "      <td>...</td>\n",
       "      <td>649.0</td>\n",
       "      <td>631.0</td>\n",
       "      <td>4</td>\n",
       "      <td>4</td>\n",
       "      <td>3</td>\n",
       "      <td>0</td>\n",
       "      <td>1</td>\n",
       "      <td>0</td>\n",
       "      <td>0</td>\n",
       "      <td>0</td>\n",
       "    </tr>\n",
       "    <tr>\n",
       "      <th>2020-03-22</th>\n",
       "      <td>22/03/2020 00:00</td>\n",
       "      <td>1600</td>\n",
       "      <td>825</td>\n",
       "      <td>180</td>\n",
       "      <td>534</td>\n",
       "      <td>5</td>\n",
       "      <td>35</td>\n",
       "      <td>4</td>\n",
       "      <td>7</td>\n",
       "      <td>10.0</td>\n",
       "      <td>...</td>\n",
       "      <td>821.0</td>\n",
       "      <td>779.0</td>\n",
       "      <td>5</td>\n",
       "      <td>4</td>\n",
       "      <td>4</td>\n",
       "      <td>0</td>\n",
       "      <td>1</td>\n",
       "      <td>0</td>\n",
       "      <td>0</td>\n",
       "      <td>0</td>\n",
       "    </tr>\n",
       "    <tr>\n",
       "      <th>2020-03-23</th>\n",
       "      <td>23/03/2020 00:00</td>\n",
       "      <td>2060</td>\n",
       "      <td>1007</td>\n",
       "      <td>238</td>\n",
       "      <td>737</td>\n",
       "      <td>5</td>\n",
       "      <td>42</td>\n",
       "      <td>11</td>\n",
       "      <td>9</td>\n",
       "      <td>11.0</td>\n",
       "      <td>...</td>\n",
       "      <td>1080.0</td>\n",
       "      <td>980.0</td>\n",
       "      <td>9</td>\n",
       "      <td>5</td>\n",
       "      <td>8</td>\n",
       "      <td>0</td>\n",
       "      <td>1</td>\n",
       "      <td>0</td>\n",
       "      <td>0</td>\n",
       "      <td>0</td>\n",
       "    </tr>\n",
       "    <tr>\n",
       "      <th>2020-03-24</th>\n",
       "      <td>24/03/2020 00:00</td>\n",
       "      <td>2362</td>\n",
       "      <td>1130</td>\n",
       "      <td>293</td>\n",
       "      <td>852</td>\n",
       "      <td>6</td>\n",
       "      <td>46</td>\n",
       "      <td>12</td>\n",
       "      <td>11</td>\n",
       "      <td>11.0</td>\n",
       "      <td>...</td>\n",
       "      <td>1229.0</td>\n",
       "      <td>1133.0</td>\n",
       "      <td>9</td>\n",
       "      <td>11</td>\n",
       "      <td>8</td>\n",
       "      <td>0</td>\n",
       "      <td>1</td>\n",
       "      <td>1</td>\n",
       "      <td>0</td>\n",
       "      <td>0</td>\n",
       "    </tr>\n",
       "  </tbody>\n",
       "</table>\n",
       "<p>5 rows × 55 columns</p>\n",
       "</div>"
      ],
      "text/plain": [
       "                  data_dados  confirmados  confirmados_arsnorte  \\\n",
       "data                                                              \n",
       "2020-03-20  20/03/2020 00:00         1020                   506   \n",
       "2020-03-21  21/03/2020 00:00         1280                   644   \n",
       "2020-03-22  22/03/2020 00:00         1600                   825   \n",
       "2020-03-23  23/03/2020 00:00         2060                  1007   \n",
       "2020-03-24  24/03/2020 00:00         2362                  1130   \n",
       "\n",
       "            confirmados_arscentro  confirmados_arslvt  \\\n",
       "data                                                    \n",
       "2020-03-20                    106                 361   \n",
       "2020-03-21                    137                 448   \n",
       "2020-03-22                    180                 534   \n",
       "2020-03-23                    238                 737   \n",
       "2020-03-24                    293                 852   \n",
       "\n",
       "            confirmados_arsalentejo  confirmados_arsalgarve  \\\n",
       "data                                                          \n",
       "2020-03-20                        2                      29   \n",
       "2020-03-21                        3                      31   \n",
       "2020-03-22                        5                      35   \n",
       "2020-03-23                        5                      42   \n",
       "2020-03-24                        6                      46   \n",
       "\n",
       "            confirmados_acores  confirmados_madeira  confirmados_estrangeiro  \\\n",
       "data                                                                           \n",
       "2020-03-20                   3                    1                      9.0   \n",
       "2020-03-21                   3                    5                      9.0   \n",
       "2020-03-22                   4                    7                     10.0   \n",
       "2020-03-23                  11                    9                     11.0   \n",
       "2020-03-24                  12                   11                     11.0   \n",
       "\n",
       "            ...  confirmados_f  confirmados_m  obitos_arsnorte  \\\n",
       "data        ...                                                  \n",
       "2020-03-20  ...          506.0          514.0                1   \n",
       "2020-03-21  ...          649.0          631.0                4   \n",
       "2020-03-22  ...          821.0          779.0                5   \n",
       "2020-03-23  ...         1080.0          980.0                9   \n",
       "2020-03-24  ...         1229.0         1133.0                9   \n",
       "\n",
       "            obitos_arscentro  obitos_arslvt  obitos_arsalentejo  \\\n",
       "data                                                              \n",
       "2020-03-20                 2              2                   0   \n",
       "2020-03-21                 4              3                   0   \n",
       "2020-03-22                 4              4                   0   \n",
       "2020-03-23                 5              8                   0   \n",
       "2020-03-24                11              8                   0   \n",
       "\n",
       "            obitos_arsalgarve  obitos_acores  obitos_madeira  \\\n",
       "data                                                           \n",
       "2020-03-20                  1              0               0   \n",
       "2020-03-21                  1              0               0   \n",
       "2020-03-22                  1              0               0   \n",
       "2020-03-23                  1              0               0   \n",
       "2020-03-24                  1              1               0   \n",
       "\n",
       "            obitos_estrangeiro  \n",
       "data                            \n",
       "2020-03-20                   0  \n",
       "2020-03-21                   0  \n",
       "2020-03-22                   0  \n",
       "2020-03-23                   0  \n",
       "2020-03-24                   0  \n",
       "\n",
       "[5 rows x 55 columns]"
      ]
     },
     "execution_count": 6,
     "metadata": {},
     "output_type": "execute_result"
    }
   ],
   "source": [
    "# checking the dataframe\n",
    "covid_pt.head()\n",
    "covid_pt.tail()"
   ]
  },
  {
   "cell_type": "markdown",
   "metadata": {},
   "source": [
    "# 📔 Dicionário dos dados\n",
    "\n",
    "Uma explicação do conteúdo em `data.csv`. \n",
    "\n",
    "📝 _ARS_: Administração Regional de Saúde \n",
    "\n",
    "| Nome da coluna        | Significado           | Possíveis valores  |\n",
    "| ------------- |:-------------:| -----:|\n",
    "| `data` | Data da publicação dos dados. | DD-MM-YYYY |\n",
    "| `data_dados` | Data e hora da recolha dos dados apresentados (quando omitida nos relatórios, assume-se como sendo a data da publicação dos dados). **Geralmente, os dados são reportados até às 24h do dia anterior à `data` (equivalentes às 00h do dia de `data`, sendo este último o formato utilizado).** | DD-MM-YYYY HH:MM|\n",
    "| `confirmados` | Casos confirmados      | Inteiro >= 0 |\n",
    "| `confirmados_arsnorte` | Casos confirmados na ARS Norte      | Inteiro >= 0 |\n",
    "| `confirmados_arscentro` | Casos confirmados na ARS Centro      | Inteiro >= 0 |\n",
    "| `confirmados_arslvt` | Casos confirmados na ARS Lisboa e Vale do Tejo      | Inteiro >= 0 |\n",
    "| `confirmados_alentejo` | Casos confirmados na ARS Alentejo     | Inteiro >= 0 |\n",
    "| `confirmados_arsalgarve` | Casos confirmados na ARS Algarve    | Inteiro >= 0 |\n",
    "| `confirmados_acores` | Casos confirmados na Região Autónoma dos Açores | Inteiro >= 0 |\n",
    "| `confirmados_madeira` | Casos confirmados na Região Autónoma da Madeira  |  Inteiro >= 0 |\n",
    "| `confirmados_estrangeiro` | Casos confirmados no estrangeiro | Inteiro >= 0 ou _vazio_ para os dias em que a DGS não reportava este indicador |\n",
    "| `confirmados_novos` | Número de novos casos confirmados comparativamente ao dia anterior. É uma coluna calculada a partir da diferença nos casos `confirmados` entre dias consecutivos. | Inteiro >= 0 |\n",
    "| `recuperados` | Total de casos recuperados | Inteiro >= 0 |\n",
    "| `obitos` | Total de óbitos | Inteiro >= 0 |\n",
    "| `internados` | Número de pacientes COVID-19 internados | Inteiro >= 0 ou _vazio_ para os dias em que a DGS não reportava este indicador |\n",
    "| `internados_uci` | Número de pacientes COVID-19 internados em Unidades de Cuidados Intensivos | Inteiro >= 0 ou _vazio_ para os dias em que a DGS não reportava este indicador |\n",
    "| `lab` | Número de casos suspeitos a aguardar resultados laboratoriais | Inteiro >= 0 ou _vazio_ para os dias em que a DGS não reportava este indicador |\n",
    "| `suspeitos` | Total de casos suspeitos (tendo a [definição sido actualizada](https://www.dgs.pt/directrizes-da-dgs/orientacoes-e-circulares-informativas/orientacao-n-002a2020-de-25012020-atualizada-a-250220201.aspx) a 29/02/2020) desde 01/01/2020  | Inteiro >= 0 |\n",
    "| `vigilancia` | Número de casos sob vigilância pelas autoridades de saúde | Inteiro >= 0 ou _vazio_ para os dias em que a DGS não reportava este indicador |\n",
    "| `n_confirmados` | Número de casos cuja suspeita de infecção não se confirmou | Inteiro >= 0 ou _vazio_ para os dias em que a DGS não reportava este indicador |\n",
    "| `cadeias_transmissao` | Número de cadeias de transmissão do SARS-CoV-2 activas | Inteiro >= 0 ou _vazio_ para os dias em que a DGS não reportava este indicador |\n",
    "| `transmissao_importada` | Número de casos confirmados com transmissão por via de infectados de outros países | Inteiro >= 0 ou _vazio_ para os dias em que a DGS não reportava este indicador |\n",
    "| `confirmados_0_9_f` | Número de casos confirmados do sexo feminino na faixa etária 0-9 anos | Inteiro >= 0 ou _vazio_ para os dias em que a DGS não reportava este indicador |\n",
    "| `confirmados_0_9_m` | Número de casos confirmados do sexo masculino na faixa etária 0-9 anos | Inteiro >= 0 ou _vazio_ para os dias em que a DGS não reportava este indicador |\n",
    "| `confirmados_10_19_f` | Número de casos confirmados do sexo feminino na faixa etária 10-19 anos | Inteiro >= 0 ou _vazio_ para os dias em que a DGS não reportava este indicador |\n",
    "| `confirmados_10_19_m` | Número de casos confirmados do sexo masculino na faixa etária 10-19 anos | Inteiro >= 0 ou _vazio_ para os dias em que a DGS não reportava este indicador |\n",
    "| `confirmados_20_29_f` | Número de casos confirmados do sexo feminino na faixa etária 20-29 anos | Inteiro >= 0 ou _vazio_ para os dias em que a DGS não reportava este indicador |\n",
    "| `confirmados_20_29_m` | Número de casos confirmados do sexo masculino na faixa etária 20-29 anos | Inteiro >= 0 ou _vazio_ para os dias em que a DGS não reportava este indicador |\n",
    "| `confirmados_30_39_f` | Número de casos confirmados do sexo feminino na faixa etária 30-39 anos | Inteiro >= 0 ou _vazio_ para os dias em que a DGS não reportava este indicador |\n",
    "| `confirmados_30_39_m` | Número de casos confirmados do sexo masculino na faixa etária 30-39 anos | Inteiro >= 0 ou _vazio_ para os dias em que a DGS não reportava este indicador |\n",
    "| `confirmados_40_49_f` | Número de casos confirmados do sexo feminino na faixa etária 40-49 anos | Inteiro >= 0 ou _vazio_ para os dias em que a DGS não reportava este indicador |\n",
    "| `confirmados_40_49_m` | Número de casos confirmados do sexo masculino na faixa etária 40-49 anos | Inteiro >= 0 ou _vazio_ para os dias em que a DGS não reportava este indicador |\n",
    "| `confirmados_50_59_f` | Número de casos confirmados do sexo feminino na faixa etária 50-59 anos | Inteiro >= 0 ou _vazio_ para os dias em que a DGS não reportava este indicador |\n",
    "| `confirmados_50_59_m` | Número de casos confirmados do sexo masculino na faixa etária 50-59 anos | Inteiro >= 0 ou _vazio_ para os dias em que a DGS não reportava este indicador |\n",
    "| `confirmados_60_69_f` | Número de casos confirmados do sexo feminino na faixa etária 60-69 anos | Inteiro >= 0 ou _vazio_ para os dias em que a DGS não reportava este indicador |\n",
    "| `confirmados_60_69_m` | Número de casos confirmados do sexo masculino na faixa etária 60-69 anos | Inteiro >= 0 ou _vazio_ para os dias em que a DGS não reportava este indicador |\n",
    "| `confirmados_70_79_f` | Número de casos confirmados do sexo feminino na faixa etária 70-79 anos | Inteiro >= 0 ou _vazio_ para os dias em que a DGS não reportava este indicador |\n",
    "| `confirmados_70_79_m` | Número de casos confirmados do sexo masculino na faixa etária 70-79 anos | Inteiro >= 0 ou _vazio_ para os dias em que a DGS não reportava este indicador |\n",
    "| `confirmados_80_plus_f` | Número de casos confirmados do sexo feminino na faixa etária 80+ anos | Inteiro >= 0 ou _vazio_ para os dias em que a DGS não reportava este indicador |\n",
    "| `confirmados_80_plus_m` | Número de casos confirmados do sexo masculino na faixa etária 80+ anos | Inteiro >= 0 ou _vazio_ para os dias em que a DGS não reportava este indicador |\n",
    "| `confirmados_80_plus_m` | Número de casos confirmados do sexo masculino na faixa etária 80+ anos | Inteiro >= 0 ou _vazio_ para os dias em que a DGS não reportava este indicador |\n",
    "| `sintomas_tosse` | Percentagem de casos infetados que reportaram o sintoma de tosse | fracção entre [0, 1] ou _vazio_ para os dias em que a DGS não reportava este indicador |\n",
    "| `sintomas_febre` | Percentagem de casos infetados que reportaram o sintoma de febre | fracção entre [0, 1] ou _vazio_ para os dias em que a DGS não reportava este indicador |\n",
    "| `sintomas_dificuldade_respiratoria` | Percentagem de casos infetados que reportaram o sintoma de dificuldade respiratória | fracção entre [0, 1] ou _vazio_ para os dias em que a DGS não reportava este indicador |\n",
    "| `sintomas_cefaleia` | Percentagem de casos infetados que reportaram o sintoma de cefaleia ou dores de cabeça | fracção entre [0, 1] ou _vazio_ para os dias em que a DGS não reportava este indicador |\n",
    "| `sintomas_dores_musculares` | Percentagem de casos infetados que reportaram o sintoma de dores musculares | fracção entre [0, 1] ou _vazio_ para os dias em que a DGS não reportava este indicador |\n",
    "| `sintomas_fraqueza_generalizada` | Percentagem de casos infetados que reportaram o sintoma de fraqueza generalizada | fracção entre [0, 1] ou _vazio_ para os dias em que a DGS não reportava este indicador |\n",
    "| `confirmados_f` | Número total de confirmados do sexo feminino | Inteiro >= 0 ou _vazio_ para os dias em que a DGS não reportava directamente este indicador |\n",
    "| `confirmados_m` | Número total de confirmados do sexo masculino | Inteiro >= 0 ou _vazio_ para os dias em que a DGS não reportava directamente este indicador |\n",
    "| `obitos_arsnorte` | Total de óbitos na ARS Norte      | Inteiro >= 0 |\n",
    "| `obitos_arscentro` | Total de óbitos na ARS Centro      | Inteiro >= 0 |\n",
    "| `obitos_arslvt` | Total de óbitos na ARS Lisboa e Vale do Tejo      | Inteiro >= 0 |\n",
    "| `obitos_alentejo` | Total de óbitos na ARS Alentejo     | Inteiro >= 0 |\n",
    "| `obitos_arsalgarve` | Total de óbitos na ARS Algarve    | Inteiro >= 0 |\n",
    "| `obitos_acores` | Total de óbitos na Região Autónoma dos Açores | Inteiro >= 0 |\n",
    "| `obitos_madeira` | Total de óbitos na Região Autónoma da Madeira  |  Inteiro >= 0 |\n",
    "| `obitos_estrangeiro` | Total de óbitos no estrangeiro | Inteiro >= 0 |\n",
    "\n",
    "> Definições exactas de alguns destes termos constam do glossário do [Plano Nacional de Preparação e Resposta à Doença por novo coronavírus (COVID-19)](https://covid19.min-saude.pt/wp-content/uploads/2020/03/Plano-de-Conting%C3%AAncia-Novo-Coronavirus_Covid-19.pdf) (página 65 em diante).\n",
    "\n",
    "Uma outra métrica com potencial interesse científico, o número de casos com base na data de início de sintomas, é também reportada pela DGS. No entanto, é apenas disponibilizado um gráfico de eixos esparsos, o que pode introduzir erros de aproximação na transcrição e comprometer a factualidade dos dados. Por essa razão, esta informação é propositadamente excluída. "
   ]
  },
  {
   "cell_type": "code",
   "execution_count": null,
   "metadata": {},
   "outputs": [],
   "source": [
    "# checking the datatypes\n",
    "covid_pt.index\n",
    "covid_pt.dtypes"
   ]
  },
  {
   "cell_type": "code",
   "execution_count": null,
   "metadata": {},
   "outputs": [],
   "source": [
    "# checking the size of the df\n",
    "covid_pt.shape"
   ]
  },
  {
   "cell_type": "code",
   "execution_count": null,
   "metadata": {
    "scrolled": true
   },
   "outputs": [],
   "source": [
    "#gathering descriptive statistics on the df\n",
    "round(covid_pt.describe(), 2)"
   ]
  },
  {
   "cell_type": "code",
   "execution_count": null,
   "metadata": {},
   "outputs": [],
   "source": [
    "# checking the columns that the df has\n",
    "covid_pt.columns"
   ]
  },
  {
   "cell_type": "code",
   "execution_count": null,
   "metadata": {},
   "outputs": [],
   "source": [
    "# dropping all columns except \"data\", \"data_dados\", \"confirmados\"... (etc), since I'm not\n",
    "# interested in these info at this moment, for the purpose of this study\n",
    "covid19_pt = covid_pt.filter(['data', 'data_dados', 'confirmados', 'confirmados_novos', \n",
    "                           'recuperados', 'obitos', 'internados', 'internados_uci', 'lab',\n",
    "                           'suspeitos', 'vigilancia', 'n_confirmados', 'cadeias_transmissao',\n",
    "                           'transmissao_importada'])"
   ]
  },
  {
   "cell_type": "code",
   "execution_count": null,
   "metadata": {},
   "outputs": [],
   "source": [
    "#checking the new shape \n",
    "covid19_pt.shape"
   ]
  },
  {
   "cell_type": "code",
   "execution_count": null,
   "metadata": {},
   "outputs": [],
   "source": [
    "# rechecking the types\n",
    "covid19_pt.dtypes"
   ]
  },
  {
   "cell_type": "code",
   "execution_count": null,
   "metadata": {},
   "outputs": [],
   "source": [
    "# looking at the tail\n",
    "covid19_pt.tail()"
   ]
  },
  {
   "cell_type": "code",
   "execution_count": null,
   "metadata": {},
   "outputs": [],
   "source": [
    "# chaging the Date Series into datetime\n",
    "covid19_pt[[\"data\", \"data_dados\"]] = covid19_pt[[\"data\", \"data_dados\"]].apply(pd.to_datetime)"
   ]
  },
  {
   "cell_type": "code",
   "execution_count": null,
   "metadata": {},
   "outputs": [],
   "source": [
    "# making sure that the conversion was correct\n",
    "covid19_pt.dtypes"
   ]
  },
  {
   "cell_type": "code",
   "execution_count": null,
   "metadata": {},
   "outputs": [],
   "source": [
    "# rechecking the descriptive stats\n",
    "round(covid19_pt.describe(), 2)"
   ]
  },
  {
   "cell_type": "code",
   "execution_count": null,
   "metadata": {},
   "outputs": [],
   "source": [
    "# since \"data\" and \"data_dados\" have essentially the same information, I'm dropping \n",
    "# \"data_dados\"\n",
    "covid19_pt.drop(\"data_dados\", axis = 1, inplace = True)"
   ]
  },
  {
   "cell_type": "code",
   "execution_count": null,
   "metadata": {},
   "outputs": [],
   "source": [
    "# documentation says: n_confirmados == \"Número de casos cuja suspeita de infecção não se \n",
    "# confirmou\". So I have no interest in this Series for the purpose of this study either and\n",
    "# I'm also dropping it\n",
    "#covid19_pt.drop(\"n_confirmados\", axis = 1, inplace = True)"
   ]
  },
  {
   "cell_type": "code",
   "execution_count": null,
   "metadata": {},
   "outputs": [],
   "source": [
    "# for the purpose of this study I'm also dropping confirmados_novos, recuperados and obitos\n",
    "#covid19_pt.drop([\"confirmados_novos\", \"recuperados\", \"obitos\"], axis = 1, inplace = True)"
   ]
  },
  {
   "cell_type": "code",
   "execution_count": null,
   "metadata": {},
   "outputs": [],
   "source": [
    "# checking\n",
    "covid19_pt"
   ]
  },
  {
   "cell_type": "code",
   "execution_count": null,
   "metadata": {},
   "outputs": [],
   "source": [
    "# calculating  'R0'(número básico de reprodução)\n",
    "covid19_pt[\"factor_propagacao\"] = 1 + round(covid19_pt[\"confirmados\"].pct_change(), 2)"
   ]
  },
  {
   "cell_type": "code",
   "execution_count": null,
   "metadata": {},
   "outputs": [],
   "source": [
    "# calculating number of days it will take to double the amount of infected at that rate.\n",
    "covid19_pt[\"dias_duplicar\"] = round(np.log(2) / np.log(covid19_pt[\"factor_propagacao\"]), 0)"
   ]
  },
  {
   "cell_type": "code",
   "execution_count": null,
   "metadata": {},
   "outputs": [],
   "source": [
    "# creating a reorder of the columns\n",
    "\"\"\"reorded = ['data', 'confirmados', 'factor_propagacao', 'dias_duplicar',\n",
    "           'internados', 'internados_uci', 'lab', 'suspeitos', 'vigilancia', \n",
    "           'cadeias_transmissao', 'transmissao_importada']\"\"\""
   ]
  },
  {
   "cell_type": "code",
   "execution_count": null,
   "metadata": {},
   "outputs": [],
   "source": [
    "# reordering the data\n",
    "covid19_pt = covid19_pt[reorded]"
   ]
  },
  {
   "cell_type": "code",
   "execution_count": null,
   "metadata": {
    "scrolled": true
   },
   "outputs": [],
   "source": [
    "# checking\n",
    "covid19_pt.tail()"
   ]
  },
  {
   "cell_type": "code",
   "execution_count": null,
   "metadata": {},
   "outputs": [],
   "source": [
    "# calculating values for testes / confirmados (how many where confirmed given the tests)\n",
    "confirmados_por_testes = round(covid19_pt.loc[:, \"lab\"].div(covid19_pt[\"confirmados\"]), 2)"
   ]
  },
  {
   "cell_type": "code",
   "execution_count": null,
   "metadata": {},
   "outputs": [],
   "source": [
    "# inserting the values into the DataFrame\n",
    "covid19_pt.insert(loc = len(covid19_pt.columns), column = \"conf_p_testes\", \n",
    "                  value = confirmados_por_testes)"
   ]
  },
  {
   "cell_type": "code",
   "execution_count": null,
   "metadata": {},
   "outputs": [],
   "source": [
    "# checking\n",
    "covid19_pt"
   ]
  },
  {
   "cell_type": "code",
   "execution_count": null,
   "metadata": {},
   "outputs": [],
   "source": []
  }
 ],
 "metadata": {
  "kernelspec": {
   "display_name": "Python 3",
   "language": "python",
   "name": "python3"
  },
  "language_info": {
   "codemirror_mode": {
    "name": "ipython",
    "version": 3
   },
   "file_extension": ".py",
   "mimetype": "text/x-python",
   "name": "python",
   "nbconvert_exporter": "python",
   "pygments_lexer": "ipython3",
   "version": "3.7.6"
  }
 },
 "nbformat": 4,
 "nbformat_minor": 4
}
